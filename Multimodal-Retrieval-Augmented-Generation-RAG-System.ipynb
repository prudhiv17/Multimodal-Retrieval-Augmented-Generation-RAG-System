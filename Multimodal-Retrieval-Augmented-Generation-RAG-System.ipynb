{
  "cells": [
    {
      "cell_type": "code",
      "execution_count": null,
      "metadata": {
        "id": "6znrsTjYDDGs"
      },
      "outputs": [],
      "source": [
        "%%capture --no-stderr\n",
        "\n",
        "!pip install langchain unstructured[all-docs] pydantic lxml openai chromadb tiktoken pytesseract\n",
        "!pip install langchain-community\n",
        "!apt-get install -y poppler-utils\n",
        "!pip install langchain_community pdf2image\n",
        "# Install Poppler in Colab\n",
        "!apt-get install -y poppler-utils\n",
        "!pip install langchain\n",
        "!pip install langchain-openai\n",
        "!pip install langchain-chroma\n",
        "!pip install langchain-community\n",
        "!pip install langchain-experimental\n",
        "!pip install \"unstructured[all-docs]\"\n",
        "!pip install htmltabletomd\n",
        "# install OCR dependencies for unstructured\n",
        "!sudo apt-get install tesseract-ocr\n",
        "!sudo apt-get install poppler-utils\n",
        "\n"
      ]
    },
    {
      "cell_type": "code",
      "source": [
        "%%capture --no-stderr\n",
        "!pip install  langchain-groq "
      ],
      "metadata": {
        "id": "nchY1CjsiEdd"
      },
      "execution_count": null,
      "outputs": []
    },
    {
      "cell_type": "code",
      "source": [
        "%%capture --no-stderr\n",
        "!pip install  langchain_huggingface"
      ],
      "metadata": {
        "id": "gupbx0YCNBll"
      },
      "execution_count": null,
      "outputs": []
    },
    {
      "cell_type": "code",
      "execution_count": null,
      "metadata": {
        "id": "59SSDSxmDLU1"
      },
      "outputs": [],
      "source": [
        "import os\n",
        "os.environ[\"GROQ_API_KEY\"] = ''\n",
        "os.environ['HF_TOKEN'] = ''"
      ]
    },
    {
      "cell_type": "code",
      "source": [
        "from google.colab import userdata\n"
      ],
      "metadata": {
        "id": "n6wuEULWB02X"
      },
      "execution_count": null,
      "outputs": []
    },
    {
      "cell_type": "code",
      "execution_count": null,
      "metadata": {
        "id": "BTzzLK2EDpQ4"
      },
      "outputs": [],
      "source": [
        "from langchain_text_splitters import CharacterTextSplitter\n",
        "from unstructured.partition.pdf import partition_pdf\n",
        "\n",
        "\n",
        "# Extract elements from PDF\n",
        "def extract_pdf_elements(path, fname):\n",
        "    \"\"\"\n",
        "    Extract images, tables, and chunk text from a PDF file.\n",
        "    path: File path, which is used to dump images (.jpg)\n",
        "    fname: File name\n",
        "    \"\"\"\n",
        "    return partition_pdf(\n",
        "        filename=path + fname,\n",
        "        extract_images_in_pdf=False,\n",
        "        infer_table_structure=True,\n",
        "        chunking_strategy=\"by_title\",\n",
        "        max_characters=4000,\n",
        "        new_after_n_chars=3800,\n",
        "        combine_text_under_n_chars=2000,\n",
        "        image_output_dir_path=path,\n",
        "    )\n",
        "\n",
        "\n",
        "# Categorize elements by type\n",
        "def categorize_elements(raw_pdf_elements):\n",
        "    \"\"\"\n",
        "    Categorize extracted elements from a PDF into tables and texts.\n",
        "    raw_pdf_elements: List of unstructured.documents.elements\n",
        "    \"\"\"\n",
        "    tables = []\n",
        "    texts = []\n",
        "    for element in raw_pdf_elements:\n",
        "        if \"unstructured.documents.elements.Table\" in str(type(element)):\n",
        "            tables.append(str(element))\n",
        "        elif \"unstructured.documents.elements.CompositeElement\" in str(type(element)):\n",
        "            texts.append(str(element))\n",
        "    return texts, tables\n",
        "\n",
        "\n",
        "# File path\n"
      ]
    },
    {
      "cell_type": "code",
      "source": [
        "fpath = \"/content/drive/MyDrive/cj/\"\n",
        "fname = \"cj.pdf\""
      ],
      "metadata": {
        "id": "gUNXqLcD_tZu"
      },
      "execution_count": null,
      "outputs": []
    },
    {
      "cell_type": "code",
      "source": [
        "raw_pdf_elements = extract_pdf_elements(fpath, fname)\n",
        "\n",
        "# Get text, tables\n",
        "texts, tables = categorize_elements(raw_pdf_elements)\n",
        "\n",
        "# Optional: Enforce a specific token size for texts\n",
        "text_splitter = CharacterTextSplitter.from_tiktoken_encoder(\n",
        "    chunk_size=4000, chunk_overlap=0\n",
        ")\n",
        "joined_texts = \" \".join(texts)\n",
        "texts_4k_token = text_splitter.split_text(joined_texts)"
      ],
      "metadata": {
        "id": "JhV5sFcaSA9K",
        "colab": {
          "base_uri": "https://localhost:8080/",
          "height": 232,
          "referenced_widgets": [
            "440edafe039e4b5d8fd40c8f9a092897",
            "d14503314cfe41b095ccf9fa77e64320",
            "5fa022a1d5e546cf9c313a17a7be97ec",
            "4df6681fec3e458b93f1e80d7228a88d",
            "74d31e0ceeec4817896cded2c15e9c8c",
            "e0e7e54b8cbe4ba396ad09516687e73e",
            "279409aaa791457f9f2a1225d9d32c93",
            "e05462ea23f944439bef09dc55ca3fef",
            "a254581f7a7e466db023fb5635899ad6",
            "738b7c8cc222415eb51ab1542b3c0bc9",
            "8a316a5b94e444a79368a3ae9f5f8e16",
            "cb6cfcb5f8764874be05544215987048",
            "0825268e7b8b4d74b8dc0fa49aec8a3a",
            "987a796b03bd4ab0975764461f720bb8",
            "12e308d43ac6467da24b7778548e5979",
            "08c582e3ea134df89c1dc03444dca332",
            "a56033b6b9c94257bb89b09bbc52507b",
            "b3a890c1a9f34b8993ed0e0cf04d117c",
            "8136fa34781849b19325570d810473fe",
            "a6835b512342400fa2f5d06e1541310b",
            "d6f3aa3776b944559a29c137903f5361",
            "cea8a88c032741838ffd38ea117f50ee",
            "ac04789fc0e640848b279d9f3be5d964",
            "d7d6bdebc574453d82df2adc5d4f8a6e",
            "e39d92479a5b4e218068492709391090",
            "62ea2df8285c4428942d79e3d8ba5dc6",
            "eefb9ea49eb04780a83dd7337dedb583",
            "3a864e27180344b89a8f1afb0a9a58dd",
            "2cdd1c3e7f9b4690835fce6f82e41975",
            "4e5d7a69eda94d4e9d9a43e8cedb8e9b",
            "28588943d3b74989a4f358c47f0e7fc5",
            "47bcacbdca054a8b8abb288773bd027f",
            "0a49fc02dc12426a9be10f74ec4bc465",
            "27fe4980757b4c4fbaf1aaa6f63d31e9",
            "6bdc89e33f814fcd9e9c767e591416f8",
            "7eee162962224009a7de01a493dab334",
            "6d4fc955990244d697ffc95b30d2a98e",
            "6ea679299e9c4f1a8e897fc201b15d0a",
            "8780a335e32042c8a74a859f4fbb31dc",
            "665b0441cb6647528815d63a860cf5f2",
            "47095a400c7e48c3984b6a21228268ed",
            "0005bb63ab0446f18a69faafaa9d546a",
            "e24a8a99c9324a6293b45ce1fc57b776",
            "3d61635318274c77992fd9e2f57d2c47",
            "0946ca08585140dabbb0b0a867ff5587",
            "3ac81882eb4f4f088d06d9afc61e5d7a",
            "697ed0af663d457bb9ea686400e7a944",
            "6b47862bcd49446f94e8de7566ab046e",
            "9dcd956c1bd24d38a4b28e1ce668bf24",
            "8bb7e322bc7e428fba22a65d089815a0",
            "bdcb4048bb2d478f8086f7d53da12559",
            "a0c00d3b3ab34f1cb35cbfbe0e9e758d",
            "fde49f9af7724dfb97219e6045de9ae2",
            "8f6d9782b1d540ee9017220417e62464",
            "68e290ba5c9b4bafb7a5d0755f78441b"
          ]
        },
        "outputId": "2f9a1062-ea21-462c-b5df-da8fd4f485e4"
      },
      "execution_count": null,
      "outputs": [
        {
          "output_type": "display_data",
          "data": {
            "text/plain": [
              "yolox_l0.05.onnx:   0%|          | 0.00/217M [00:00<?, ?B/s]"
            ],
            "application/vnd.jupyter.widget-view+json": {
              "version_major": 2,
              "version_minor": 0,
              "model_id": "440edafe039e4b5d8fd40c8f9a092897"
            }
          },
          "metadata": {}
        },
        {
          "output_type": "stream",
          "name": "stderr",
          "text": [
            "The cache for model files in Transformers v4.22.0 has been updated. Migrating your old cache. This is a one-time only operation. You can interrupt this and resume the migration later on by calling `transformers.utils.move_cache()`.\n"
          ]
        },
        {
          "output_type": "display_data",
          "data": {
            "text/plain": [
              "0it [00:00, ?it/s]"
            ],
            "application/vnd.jupyter.widget-view+json": {
              "version_major": 2,
              "version_minor": 0,
              "model_id": "cb6cfcb5f8764874be05544215987048"
            }
          },
          "metadata": {}
        },
        {
          "output_type": "display_data",
          "data": {
            "text/plain": [
              "config.json:   0%|          | 0.00/1.47k [00:00<?, ?B/s]"
            ],
            "application/vnd.jupyter.widget-view+json": {
              "version_major": 2,
              "version_minor": 0,
              "model_id": "ac04789fc0e640848b279d9f3be5d964"
            }
          },
          "metadata": {}
        },
        {
          "output_type": "display_data",
          "data": {
            "text/plain": [
              "model.safetensors:   0%|          | 0.00/115M [00:00<?, ?B/s]"
            ],
            "application/vnd.jupyter.widget-view+json": {
              "version_major": 2,
              "version_minor": 0,
              "model_id": "27fe4980757b4c4fbaf1aaa6f63d31e9"
            }
          },
          "metadata": {}
        },
        {
          "output_type": "display_data",
          "data": {
            "text/plain": [
              "model.safetensors:   0%|          | 0.00/46.8M [00:00<?, ?B/s]"
            ],
            "application/vnd.jupyter.widget-view+json": {
              "version_major": 2,
              "version_minor": 0,
              "model_id": "0946ca08585140dabbb0b0a867ff5587"
            }
          },
          "metadata": {}
        },
        {
          "output_type": "stream",
          "name": "stderr",
          "text": [
            "WARNING:langchain_text_splitters.base:Created a chunk of size 4077, which is longer than the specified 4000\n"
          ]
        }
      ]
    },
    {
      "cell_type": "code",
      "source": [
        "from langchain_core.output_parsers import StrOutputParser\n",
        "from langchain_core.prompts import ChatPromptTemplate\n",
        "from langchain_groq import ChatGroq\n",
        "def generate_text_summaries(texts, tables, summarize_texts=False):\n",
        "    \"\"\"\n",
        "    Summarize text elements\n",
        "    texts: List of str\n",
        "    tables: List of str\n",
        "    summarize_texts: Bool to summarize texts\n",
        "    \"\"\"\n",
        "\n",
        "    # Prompt\n",
        "    prompt_text = \"\"\"You are an assistant tasked with summarizing tables and text for retrieval. \\\n",
        "    These summaries will be embedded and used to retrieve the raw text or table elements. \\\n",
        "    Give a concise summary of the table or text that is well optimized for retrieval. Table or text: {element} \"\"\"\n",
        "    prompt = ChatPromptTemplate.from_template(prompt_text)\n",
        "\n",
        "    # Text summary chain\n",
        "    model = ChatGroq(temperature=0, model=\"llama3-70b-8192\")\n",
        "    summarize_chain = {\"element\": lambda x: x} | prompt | model | StrOutputParser()\n",
        "\n",
        "    # Initialize empty summaries\n",
        "    text_summaries = []\n",
        "    table_summaries = []\n",
        "\n",
        "    # Apply to text if texts are provided and summarization is requested\n",
        "    if texts and summarize_texts:\n",
        "        text_summaries = summarize_chain.batch(texts, {\"max_concurrency\": 5})\n",
        "    elif texts:\n",
        "        text_summaries = texts\n",
        "\n",
        "    # Apply to tables if tables are provided\n",
        "    if tables:\n",
        "        table_summaries = summarize_chain.batch(tables, {\"max_concurrency\": 5})\n",
        "\n",
        "    return text_summaries, table_summaries\n"
      ],
      "metadata": {
        "id": "fjdQEljJ3lIR"
      },
      "execution_count": null,
      "outputs": []
    },
    {
      "cell_type": "code",
      "source": [
        "text_summaries, table_summaries = generate_text_summaries(\n",
        "    texts_4k_token, tables, summarize_texts=True\n",
        ")"
      ],
      "metadata": {
        "id": "AX6F0AgO4BsI"
      },
      "execution_count": null,
      "outputs": []
    },
    {
      "cell_type": "code",
      "source": [
        "os.environ[\"OPENAI_API_KEY\"] = userdata.get('OPENAI_API_KEY')"
      ],
      "metadata": {
        "id": "4MOqvxKlN_vn"
      },
      "execution_count": null,
      "outputs": []
    },
    {
      "cell_type": "code",
      "source": [
        "import base64\n",
        "import os\n",
        "from langchain_openai import ChatOpenAI\n",
        "from langchain_core.messages import HumanMessage\n",
        "\n",
        "\n",
        "def encode_image(image_path):\n",
        "    \"\"\"Getting the base64 string\"\"\"\n",
        "    with open(image_path, \"rb\") as image_file:\n",
        "        return base64.b64encode(image_file.read()).decode(\"utf-8\")\n",
        "\n",
        "\n",
        "def image_summarize(img_base64, prompt):\n",
        "    \"\"\"Make image summary\"\"\"\n",
        "    chat = ChatOpenAI(model=\"gpt-4o\", max_tokens=1024)\n",
        "\n",
        "    msg = chat.invoke(\n",
        "        [\n",
        "            HumanMessage(\n",
        "                content=[\n",
        "                    {\"type\": \"text\", \"text\": prompt},\n",
        "                    {\n",
        "                        \"type\": \"image_url\",\n",
        "                        \"image_url\": {\"url\": f\"data:image/jpeg;base64,{img_base64}\"},\n",
        "                    },\n",
        "                ]\n",
        "            )\n",
        "        ]\n",
        "    )\n",
        "    return msg.content"
      ],
      "metadata": {
        "id": "34sUHmgw5KIh"
      },
      "execution_count": null,
      "outputs": []
    },
    {
      "cell_type": "code",
      "source": [
        "def generate_img_summaries(path):\n",
        "    \"\"\"\n",
        "    Generate summaries and base64 encoded strings for images\n",
        "    path: Path to list of .jpg files extracted by Unstructured\n",
        "    \"\"\"\n",
        "\n",
        "    # Store base64 encoded images\n",
        "    img_base64_list = []\n",
        "\n",
        "    # Store image summaries\n",
        "    image_summaries = []\n",
        "\n",
        "    # Prompt\n",
        "    prompt = \"\"\"You are an assistant tasked with summarizing images for retrieval. \\\n",
        "    These summaries will be embedded and used to retrieve the raw image. \\\n",
        "    Give a concise summary of the image that is well optimized for retrieval.\"\"\"\n",
        "\n",
        "    # Apply to images\n",
        "    for img_file in sorted(os.listdir(path)):\n",
        "        if img_file.endswith(\".jpg\"):\n",
        "            img_path = os.path.join(path, img_file)\n",
        "            base64_image = encode_image(img_path)\n",
        "            img_base64_list.append(base64_image)\n",
        "            image_summaries.append(image_summarize(base64_image, prompt))\n",
        "\n",
        "    return img_base64_list, image_summaries\n",
        "\n",
        "\n",
        "img_base64_list, image_summaries = generate_img_summaries(fpath)"
      ],
      "metadata": {
        "id": "7wNx1aFm5Ozp"
      },
      "execution_count": null,
      "outputs": []
    },
    {
      "cell_type": "code",
      "source": [],
      "metadata": {
        "id": "O4oOIqPS5Xjz"
      },
      "execution_count": null,
      "outputs": []
    },
    {
      "cell_type": "code",
      "source": [
        "import uuid\n",
        "\n",
        "from langchain.retrievers.multi_vector import MultiVectorRetriever\n",
        "from langchain.storage import InMemoryStore\n",
        "from langchain_chroma import Chroma\n",
        "from langchain_core.documents import Document\n",
        "from langchain_community.embeddings import HuggingFaceInferenceAPIEmbeddings\n",
        "\n",
        "def create_multi_vector_retriever(\n",
        "    vectorstore, text_summaries, texts, table_summaries, tables, image_summaries, images\n",
        "):\n",
        "    \"\"\"\n",
        "    Create retriever that indexes summaries, but returns raw images or texts\n",
        "    \"\"\"\n",
        "\n",
        "    # Initialize the storage layer\n",
        "    store = InMemoryStore()\n",
        "    id_key = \"doc_id\"\n",
        "\n",
        "    # Create the multi-vector retriever\n",
        "    retriever = MultiVectorRetriever(\n",
        "        vectorstore=vectorstore,\n",
        "        docstore=store,\n",
        "        id_key=id_key,\n",
        "    )\n",
        "     # Helper function to add documents to the vectorstore and docstore\n",
        "    def add_documents(retriever, doc_summaries, doc_contents):\n",
        "        doc_ids = [str(uuid.uuid4()) for _ in doc_contents]\n",
        "        summary_docs = [\n",
        "            Document(page_content=s, metadata={id_key: doc_ids[i]})\n",
        "            for i, s in enumerate(doc_summaries)\n",
        "        ]\n",
        "        retriever.vectorstore.add_documents(summary_docs)\n",
        "        retriever.docstore.mset(list(zip(doc_ids, doc_contents)))\n",
        "\n",
        "    # Add texts, tables, and images\n",
        "    # Check that text_summaries is not empty before adding\n",
        "    if text_summaries:\n",
        "        add_documents(retriever, text_summaries, texts)\n",
        "    # Check that table_summaries is not empty before adding\n",
        "    if table_summaries:\n",
        "        add_documents(retriever, table_summaries, tables)\n",
        "    # Check that image_summaries is not empty before adding\n",
        "    if image_summaries:\n",
        "        add_documents(retriever, image_summaries, images)\n",
        "\n",
        "    return retriever\n",
        "# The vectorstore to use to index the summaries\n",
        "vectorstore = Chroma(\n",
        "    collection_name=\"mm_rag_cj_blog\", embedding_function= HuggingFaceInferenceAPIEmbeddings(api_key=userdata.get('HF_TOKEN'), model_name=\"sentence-transformers/all-MiniLM-l6-v2\")\n",
        ")\n",
        "\n",
        "# Create retriever\n",
        "retriever_multi_vector_img = create_multi_vector_retriever(\n",
        "    vectorstore,\n",
        "    text_summaries,\n",
        "    texts,\n",
        "    table_summaries,\n",
        "    tables,\n",
        "    image_summaries,\n",
        "    img_base64_list,\n",
        ")\n"
      ],
      "metadata": {
        "id": "jt3CRXdPAxtF"
      },
      "execution_count": null,
      "outputs": []
    },
    {
      "cell_type": "code",
      "source": [
        "import io\n",
        "import re\n",
        "\n",
        "from IPython.display import HTML, display\n",
        "from langchain_core.runnables import RunnableLambda, RunnablePassthrough\n",
        "from PIL import Image\n",
        "def plt_img_base64(img_base64):\n",
        "    \"\"\"Disply base64 encoded string as image\"\"\"\n",
        "    # Create an HTML img tag with the base64 string as the source\n",
        "    image_html = f'<img src=\"data:image/jpeg;base64,{img_base64}\" />'\n",
        "    # Display the image by rendering the HTML\n",
        "    display(HTML(image_html))\n",
        "\n",
        "\n",
        "def looks_like_base64(sb):\n",
        "    \"\"\"Check if the string looks like base64\"\"\"\n",
        "    return re.match(\"^[A-Za-z0-9+/]+[=]{0,2}$\", sb) is not None\n",
        "\n",
        "\n",
        "def is_image_data(b64data):\n",
        "    \"\"\"\n",
        "    Check if the base64 data is an image by looking at the start of the data\n",
        "    \"\"\"\n",
        "    image_signatures = {\n",
        "        b\"\\xff\\xd8\\xff\": \"jpg\",\n",
        "        b\"\\x89\\x50\\x4e\\x47\\x0d\\x0a\\x1a\\x0a\": \"png\",\n",
        "        b\"\\x47\\x49\\x46\\x38\": \"gif\",\n",
        "        b\"\\x52\\x49\\x46\\x46\": \"webp\",\n",
        "    }\n",
        "    try:\n",
        "        header = base64.b64decode(b64data)[:8]  # Decode and get the first 8 bytes\n",
        "        for sig, format in image_signatures.items():\n",
        "            if header.startswith(sig):\n",
        "                return True\n",
        "        return False\n",
        "    except Exception:\n",
        "        return False\n",
        "def resize_base64_image(base64_string, size=(128, 128)):\n",
        "    \"\"\"\n",
        "    Resize an image encoded as a Base64 string\n",
        "    \"\"\"\n",
        "    # Decode the Base64 string\n",
        "    img_data = base64.b64decode(base64_string)\n",
        "    img = Image.open(io.BytesIO(img_data))\n",
        "\n",
        "    # Resize the image\n",
        "    resized_img = img.resize(size, Image.LANCZOS)\n",
        "\n",
        "    # Save the resized image to a bytes buffer\n",
        "    buffered = io.BytesIO()\n",
        "    resized_img.save(buffered, format=img.format)\n",
        "\n",
        "    # Encode the resized image to Base64\n",
        "    return base64.b64encode(buffered.getvalue()).decode(\"utf-8\")\n",
        "\n",
        "\n",
        "def split_image_text_types(docs):\n",
        "    \"\"\"\n",
        "    Split base64-encoded images and texts\n",
        "    \"\"\"\n",
        "    b64_images = []\n",
        "    texts = []\n",
        "    for doc in docs:\n",
        "        # Check if the document is of type Document and extract page_content if so\n",
        "        if isinstance(doc, Document):\n",
        "            doc = doc.page_content\n",
        "        if looks_like_base64(doc) and is_image_data(doc):\n",
        "            doc = resize_base64_image(doc, size=(1300, 600))\n",
        "            b64_images.append(doc)\n",
        "        else:\n",
        "            texts.append(doc)\n",
        "    return {\"images\": b64_images, \"texts\": texts}\n",
        "def img_prompt_func(data_dict):\n",
        "    \"\"\"\n",
        "    Join the context into a single string\n",
        "    \"\"\"\n",
        "    formatted_texts = \"\\n\".join(data_dict[\"context\"][\"texts\"])\n",
        "    messages = []\n",
        "\n",
        "    # Adding image(s) to the messages if present\n",
        "    if data_dict[\"context\"][\"images\"]:\n",
        "        for image in data_dict[\"context\"][\"images\"]:\n",
        "            image_message = {\n",
        "                \"type\": \"image_url\",\n",
        "                \"image_url\": {\"url\": f\"data:image/jpeg;base64,{image}\"},\n",
        "            }\n",
        "            messages.append(image_message)\n",
        "\n",
        "    # Adding the text for analysis\n",
        "    text_message = {\n",
        "        \"type\": \"text\",\n",
        "        \"text\": (\n",
        "            \"You are financial analyst tasking with providing investment advice.\\n\"\n",
        "            \"You will be given a mixed of text, tables, and image(s) usually of charts or graphs.\\n\"\n",
        "            \"Use this information to provide investment advice related to the user question. \\n\"\n",
        "            f\"User-provided question: {data_dict['question']}\\n\\n\"\n",
        "            \"Text and / or tables:\\n\"\n",
        "            f\"{formatted_texts}\"\n",
        "        ),\n",
        "    }\n",
        "    messages.append(text_message)\n",
        "    return [HumanMessage(content=messages)]\n",
        "def multi_modal_rag_chain(retriever):\n",
        "    \"\"\"\n",
        "    Multi-modal RAG chain\n",
        "    \"\"\"\n",
        "\n",
        "    # Multi-modal LLM\n",
        "    model = ChatOpenAI(temperature=0, model=\"gpt-4o\", max_tokens=1024)\n",
        "\n",
        "    # RAG pipeline\n",
        "    chain = (\n",
        "        {\n",
        "            \"context\": retriever | RunnableLambda(split_image_text_types),\n",
        "            \"question\": RunnablePassthrough(),\n",
        "        }\n",
        "        | RunnableLambda(img_prompt_func)\n",
        "        | model\n",
        "        | StrOutputParser()\n",
        "    )\n",
        "\n",
        "    return chain\n",
        "chain_multimodal_rag = multi_modal_rag_chain(retriever_multi_vector_img)\n"
      ],
      "metadata": {
        "id": "DVMSYdgqCGQw"
      },
      "execution_count": null,
      "outputs": []
    },
    {
      "cell_type": "code",
      "source": [],
      "metadata": {
        "id": "Y0F_wCYXCGTq"
      },
      "execution_count": null,
      "outputs": []
    },
    {
      "cell_type": "code",
      "source": [
        "# Check retrieval\n",
        "query = \"Give me company names that are interesting investments based on EV / NTM and NTM rev growth. Consider EV / NTM multiples vs historical?\"\n",
        "docs = retriever_multi_vector_img.invoke(query, limit=6)\n",
        "\n",
        "# We get 4 docs\n",
        "len(docs)"
      ],
      "metadata": {
        "colab": {
          "base_uri": "https://localhost:8080/"
        },
        "id": "RVQhZaiwCGXg",
        "outputId": "490069c3-63e7-453b-eb72-17c237da3e99"
      },
      "execution_count": null,
      "outputs": [
        {
          "output_type": "execute_result",
          "data": {
            "text/plain": [
              "4"
            ]
          },
          "metadata": {},
          "execution_count": 16
        }
      ]
    },
    {
      "cell_type": "code",
      "source": [
        "# Check retrieval\n",
        "query = \"What are the EV / NTM and NTM rev growth for MongoDB, Cloudflare, and Datadog?\"\n",
        "docs = retriever_multi_vector_img.invoke(query, limit=6)\n",
        "\n",
        "# We get 4 docs\n",
        "len(docs)"
      ],
      "metadata": {
        "colab": {
          "base_uri": "https://localhost:8080/"
        },
        "id": "zjD3VIb8CGaD",
        "outputId": "78274555-680a-4e01-d98c-ceebebc97d0f"
      },
      "execution_count": null,
      "outputs": [
        {
          "output_type": "execute_result",
          "data": {
            "text/plain": [
              "4"
            ]
          },
          "metadata": {},
          "execution_count": 17
        }
      ]
    },
    {
      "cell_type": "code",
      "source": [
        "docs[3]"
      ],
      "metadata": {
        "id": "n4suQFf6CGdv",
        "colab": {
          "base_uri": "https://localhost:8080/",
          "height": 123
        },
        "outputId": "3dd02f5a-2e0f-45aa-8e70-e03d3fe65aa0"
      },
      "execution_count": null,
      "outputs": [
        {
          "output_type": "execute_result",
          "data": {
            "text/plain": [
              "'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'"
            ],
            "application/vnd.google.colaboratory.intrinsic+json": {
              "type": "string"
            }
          },
          "metadata": {},
          "execution_count": 18
        }
      ]
    },
    {
      "cell_type": "code",
      "source": [
        "plt_img_base64(img_base64_list[3])\n"
      ],
      "metadata": {
        "colab": {
          "base_uri": "https://localhost:8080/",
          "height": 732
        },
        "id": "PkDIHOPiNoCG",
        "outputId": "39f72e4f-0ebf-4736-fe19-2c0bd062f0ed"
      },
      "execution_count": null,
      "outputs": [
        {
          "output_type": "display_data",
          "data": {
            "text/plain": [
              "<IPython.core.display.HTML object>"
            ],
            "text/html": [
              "<img src=\"data:image/jpeg;base64,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\" />"
            ]
          },
          "metadata": {}
        }
      ]
    },
    {
      "cell_type": "code",
      "source": [
        "query = \"what is the reported revenue of twillo\"\n"
      ],
      "metadata": {
        "id": "spk0QSTVUnU7"
      },
      "execution_count": null,
      "outputs": []
    },
    {
      "cell_type": "code",
      "source": [
        "chain_multimodal_rag.invoke(query)\n"
      ],
      "metadata": {
        "colab": {
          "base_uri": "https://localhost:8080/",
          "height": 88
        },
        "id": "mrTnIjH8O5gg",
        "outputId": "b3c893d7-de82-48c8-819b-8f549420102a"
      },
      "execution_count": null,
      "outputs": [
        {
          "output_type": "execute_result",
          "data": {
            "text/plain": [
              "'Based on the provided data:\\n\\n### MongoDB\\n- **EV / NTM Revenue**: 14.6x\\n- **NTM Revenue Growth**: 17%\\n\\n### Cloudflare\\n- **EV / NTM Revenue**: 13.4x\\n- **NTM Revenue Growth**: 28%\\n\\n### Datadog\\n- **EV / NTM Revenue**: 13.1x\\n- **NTM Revenue Growth**: 19%\\n\\nThese metrics indicate that all three companies have relatively high EV/NTM revenue multiples, suggesting they are valued at a premium compared to their expected revenue. Cloudflare shows the highest expected revenue growth among the three, which might justify its valuation. MongoDB and Datadog also have strong growth prospects, but at slightly lower rates.'"
            ],
            "application/vnd.google.colaboratory.intrinsic+json": {
              "type": "string"
            }
          },
          "metadata": {},
          "execution_count": 20
        }
      ]
    },
    {
      "cell_type": "code",
      "source": [
        "chain_multimodal_rag.invoke('what is the mongodb 7day share price')\n"
      ],
      "metadata": {
        "colab": {
          "base_uri": "https://localhost:8080/",
          "height": 36
        },
        "id": "L8L-iSzjO-ad",
        "outputId": "f389b2f9-f151-4d1f-c292-b9c33d32b912"
      },
      "execution_count": null,
      "outputs": [
        {
          "output_type": "execute_result",
          "data": {
            "text/plain": [
              "'The 7-day share price change for MongoDB is 11%.'"
            ],
            "application/vnd.google.colaboratory.intrinsic+json": {
              "type": "string"
            }
          },
          "metadata": {},
          "execution_count": 22
        }
      ]
    },
    {
      "cell_type": "code",
      "source": [
        "chain_multimodal_rag.invoke('what is the 30 day share price ofdatadog')\n"
      ],
      "metadata": {
        "colab": {
          "base_uri": "https://localhost:8080/",
          "height": 36
        },
        "id": "1VSIb5HwQYwh",
        "outputId": "efeb9602-7bc9-451f-d8e1-1071087563a8"
      },
      "execution_count": null,
      "outputs": [
        {
          "output_type": "execute_result",
          "data": {
            "text/plain": [
              "'The 30-day share price change for Datadog is an increase of 9%.'"
            ],
            "application/vnd.google.colaboratory.intrinsic+json": {
              "type": "string"
            }
          },
          "metadata": {},
          "execution_count": 23
        }
      ]
    },
    {
      "cell_type": "code",
      "source": [],
      "metadata": {
        "id": "N8Z-Wt2JUda7"
      },
      "execution_count": null,
      "outputs": []
    },
    {
      "cell_type": "code",
      "source": [],
      "metadata": {
        "id": "H0dnc3SLrGhp"
      },
      "execution_count": null,
      "outputs": []
    },
    {
      "cell_type": "code",
      "source": [],
      "metadata": {
        "id": "My-k_8bwis53"
      },
      "execution_count": null,
      "outputs": []
    },
    {
      "cell_type": "code",
      "source": [],
      "metadata": {
        "id": "VJIA2BiBix2q"
      },
      "execution_count": null,
      "outputs": []
    }
  ],
  "metadata": {
    "colab": {
      "provenance": []
    },
    "kernelspec": {
      "display_name": "Python 3",
      "name": "python3"
    },
    "language_info": {
      "name": "python"
    },
    "widgets": {
      "application/vnd.jupyter.widget-state+json": {
        "440edafe039e4b5d8fd40c8f9a092897": {
          "model_module": "@jupyter-widgets/controls",
          "model_name": "HBoxModel",
          "model_module_version": "1.5.0",
          "state": {
            "_dom_classes": [],
            "_model_module": "@jupyter-widgets/controls",
            "_model_module_version": "1.5.0",
            "_model_name": "HBoxModel",
            "_view_count": null,
            "_view_module": "@jupyter-widgets/controls",
            "_view_module_version": "1.5.0",
            "_view_name": "HBoxView",
            "box_style": "",
            "children": [
              "IPY_MODEL_d14503314cfe41b095ccf9fa77e64320",
              "IPY_MODEL_5fa022a1d5e546cf9c313a17a7be97ec",
              "IPY_MODEL_4df6681fec3e458b93f1e80d7228a88d"
            ],
            "layout": "IPY_MODEL_74d31e0ceeec4817896cded2c15e9c8c"
          }
        },
        "d14503314cfe41b095ccf9fa77e64320": {
          "model_module": "@jupyter-widgets/controls",
          "model_name": "HTMLModel",
          "model_module_version": "1.5.0",
          "state": {
            "_dom_classes": [],
            "_model_module": "@jupyter-widgets/controls",
            "_model_module_version": "1.5.0",
            "_model_name": "HTMLModel",
            "_view_count": null,
            "_view_module": "@jupyter-widgets/controls",
            "_view_module_version": "1.5.0",
            "_view_name": "HTMLView",
            "description": "",
            "description_tooltip": null,
            "layout": "IPY_MODEL_e0e7e54b8cbe4ba396ad09516687e73e",
            "placeholder": "​",
            "style": "IPY_MODEL_279409aaa791457f9f2a1225d9d32c93",
            "value": "yolox_l0.05.onnx: 100%"
          }
        },
        "5fa022a1d5e546cf9c313a17a7be97ec": {
          "model_module": "@jupyter-widgets/controls",
          "model_name": "FloatProgressModel",
          "model_module_version": "1.5.0",
          "state": {
            "_dom_classes": [],
            "_model_module": "@jupyter-widgets/controls",
            "_model_module_version": "1.5.0",
            "_model_name": "FloatProgressModel",
            "_view_count": null,
            "_view_module": "@jupyter-widgets/controls",
            "_view_module_version": "1.5.0",
            "_view_name": "ProgressView",
            "bar_style": "success",
            "description": "",
            "description_tooltip": null,
            "layout": "IPY_MODEL_e05462ea23f944439bef09dc55ca3fef",
            "max": 216625723,
            "min": 0,
            "orientation": "horizontal",
            "style": "IPY_MODEL_a254581f7a7e466db023fb5635899ad6",
            "value": 216625723
          }
        },
        "4df6681fec3e458b93f1e80d7228a88d": {
          "model_module": "@jupyter-widgets/controls",
          "model_name": "HTMLModel",
          "model_module_version": "1.5.0",
          "state": {
            "_dom_classes": [],
            "_model_module": "@jupyter-widgets/controls",
            "_model_module_version": "1.5.0",
            "_model_name": "HTMLModel",
            "_view_count": null,
            "_view_module": "@jupyter-widgets/controls",
            "_view_module_version": "1.5.0",
            "_view_name": "HTMLView",
            "description": "",
            "description_tooltip": null,
            "layout": "IPY_MODEL_738b7c8cc222415eb51ab1542b3c0bc9",
            "placeholder": "​",
            "style": "IPY_MODEL_8a316a5b94e444a79368a3ae9f5f8e16",
            "value": " 217M/217M [00:03&lt;00:00, 72.9MB/s]"
          }
        },
        "74d31e0ceeec4817896cded2c15e9c8c": {
          "model_module": "@jupyter-widgets/base",
          "model_name": "LayoutModel",
          "model_module_version": "1.2.0",
          "state": {
            "_model_module": "@jupyter-widgets/base",
            "_model_module_version": "1.2.0",
            "_model_name": "LayoutModel",
            "_view_count": null,
            "_view_module": "@jupyter-widgets/base",
            "_view_module_version": "1.2.0",
            "_view_name": "LayoutView",
            "align_content": null,
            "align_items": null,
            "align_self": null,
            "border": null,
            "bottom": null,
            "display": null,
            "flex": null,
            "flex_flow": null,
            "grid_area": null,
            "grid_auto_columns": null,
            "grid_auto_flow": null,
            "grid_auto_rows": null,
            "grid_column": null,
            "grid_gap": null,
            "grid_row": null,
            "grid_template_areas": null,
            "grid_template_columns": null,
            "grid_template_rows": null,
            "height": null,
            "justify_content": null,
            "justify_items": null,
            "left": null,
            "margin": null,
            "max_height": null,
            "max_width": null,
            "min_height": null,
            "min_width": null,
            "object_fit": null,
            "object_position": null,
            "order": null,
            "overflow": null,
            "overflow_x": null,
            "overflow_y": null,
            "padding": null,
            "right": null,
            "top": null,
            "visibility": null,
            "width": null
          }
        },
        "e0e7e54b8cbe4ba396ad09516687e73e": {
          "model_module": "@jupyter-widgets/base",
          "model_name": "LayoutModel",
          "model_module_version": "1.2.0",
          "state": {
            "_model_module": "@jupyter-widgets/base",
            "_model_module_version": "1.2.0",
            "_model_name": "LayoutModel",
            "_view_count": null,
            "_view_module": "@jupyter-widgets/base",
            "_view_module_version": "1.2.0",
            "_view_name": "LayoutView",
            "align_content": null,
            "align_items": null,
            "align_self": null,
            "border": null,
            "bottom": null,
            "display": null,
            "flex": null,
            "flex_flow": null,
            "grid_area": null,
            "grid_auto_columns": null,
            "grid_auto_flow": null,
            "grid_auto_rows": null,
            "grid_column": null,
            "grid_gap": null,
            "grid_row": null,
            "grid_template_areas": null,
            "grid_template_columns": null,
            "grid_template_rows": null,
            "height": null,
            "justify_content": null,
            "justify_items": null,
            "left": null,
            "margin": null,
            "max_height": null,
            "max_width": null,
            "min_height": null,
            "min_width": null,
            "object_fit": null,
            "object_position": null,
            "order": null,
            "overflow": null,
            "overflow_x": null,
            "overflow_y": null,
            "padding": null,
            "right": null,
            "top": null,
            "visibility": null,
            "width": null
          }
        },
        "279409aaa791457f9f2a1225d9d32c93": {
          "model_module": "@jupyter-widgets/controls",
          "model_name": "DescriptionStyleModel",
          "model_module_version": "1.5.0",
          "state": {
            "_model_module": "@jupyter-widgets/controls",
            "_model_module_version": "1.5.0",
            "_model_name": "DescriptionStyleModel",
            "_view_count": null,
            "_view_module": "@jupyter-widgets/base",
            "_view_module_version": "1.2.0",
            "_view_name": "StyleView",
            "description_width": ""
          }
        },
        "e05462ea23f944439bef09dc55ca3fef": {
          "model_module": "@jupyter-widgets/base",
          "model_name": "LayoutModel",
          "model_module_version": "1.2.0",
          "state": {
            "_model_module": "@jupyter-widgets/base",
            "_model_module_version": "1.2.0",
            "_model_name": "LayoutModel",
            "_view_count": null,
            "_view_module": "@jupyter-widgets/base",
            "_view_module_version": "1.2.0",
            "_view_name": "LayoutView",
            "align_content": null,
            "align_items": null,
            "align_self": null,
            "border": null,
            "bottom": null,
            "display": null,
            "flex": null,
            "flex_flow": null,
            "grid_area": null,
            "grid_auto_columns": null,
            "grid_auto_flow": null,
            "grid_auto_rows": null,
            "grid_column": null,
            "grid_gap": null,
            "grid_row": null,
            "grid_template_areas": null,
            "grid_template_columns": null,
            "grid_template_rows": null,
            "height": null,
            "justify_content": null,
            "justify_items": null,
            "left": null,
            "margin": null,
            "max_height": null,
            "max_width": null,
            "min_height": null,
            "min_width": null,
            "object_fit": null,
            "object_position": null,
            "order": null,
            "overflow": null,
            "overflow_x": null,
            "overflow_y": null,
            "padding": null,
            "right": null,
            "top": null,
            "visibility": null,
            "width": null
          }
        },
        "a254581f7a7e466db023fb5635899ad6": {
          "model_module": "@jupyter-widgets/controls",
          "model_name": "ProgressStyleModel",
          "model_module_version": "1.5.0",
          "state": {
            "_model_module": "@jupyter-widgets/controls",
            "_model_module_version": "1.5.0",
            "_model_name": "ProgressStyleModel",
            "_view_count": null,
            "_view_module": "@jupyter-widgets/base",
            "_view_module_version": "1.2.0",
            "_view_name": "StyleView",
            "bar_color": null,
            "description_width": ""
          }
        },
        "738b7c8cc222415eb51ab1542b3c0bc9": {
          "model_module": "@jupyter-widgets/base",
          "model_name": "LayoutModel",
          "model_module_version": "1.2.0",
          "state": {
            "_model_module": "@jupyter-widgets/base",
            "_model_module_version": "1.2.0",
            "_model_name": "LayoutModel",
            "_view_count": null,
            "_view_module": "@jupyter-widgets/base",
            "_view_module_version": "1.2.0",
            "_view_name": "LayoutView",
            "align_content": null,
            "align_items": null,
            "align_self": null,
            "border": null,
            "bottom": null,
            "display": null,
            "flex": null,
            "flex_flow": null,
            "grid_area": null,
            "grid_auto_columns": null,
            "grid_auto_flow": null,
            "grid_auto_rows": null,
            "grid_column": null,
            "grid_gap": null,
            "grid_row": null,
            "grid_template_areas": null,
            "grid_template_columns": null,
            "grid_template_rows": null,
            "height": null,
            "justify_content": null,
            "justify_items": null,
            "left": null,
            "margin": null,
            "max_height": null,
            "max_width": null,
            "min_height": null,
            "min_width": null,
            "object_fit": null,
            "object_position": null,
            "order": null,
            "overflow": null,
            "overflow_x": null,
            "overflow_y": null,
            "padding": null,
            "right": null,
            "top": null,
            "visibility": null,
            "width": null
          }
        },
        "8a316a5b94e444a79368a3ae9f5f8e16": {
          "model_module": "@jupyter-widgets/controls",
          "model_name": "DescriptionStyleModel",
          "model_module_version": "1.5.0",
          "state": {
            "_model_module": "@jupyter-widgets/controls",
            "_model_module_version": "1.5.0",
            "_model_name": "DescriptionStyleModel",
            "_view_count": null,
            "_view_module": "@jupyter-widgets/base",
            "_view_module_version": "1.2.0",
            "_view_name": "StyleView",
            "description_width": ""
          }
        },
        "cb6cfcb5f8764874be05544215987048": {
          "model_module": "@jupyter-widgets/controls",
          "model_name": "HBoxModel",
          "model_module_version": "1.5.0",
          "state": {
            "_dom_classes": [],
            "_model_module": "@jupyter-widgets/controls",
            "_model_module_version": "1.5.0",
            "_model_name": "HBoxModel",
            "_view_count": null,
            "_view_module": "@jupyter-widgets/controls",
            "_view_module_version": "1.5.0",
            "_view_name": "HBoxView",
            "box_style": "",
            "children": [
              "IPY_MODEL_0825268e7b8b4d74b8dc0fa49aec8a3a",
              "IPY_MODEL_987a796b03bd4ab0975764461f720bb8",
              "IPY_MODEL_12e308d43ac6467da24b7778548e5979"
            ],
            "layout": "IPY_MODEL_08c582e3ea134df89c1dc03444dca332"
          }
        },
        "0825268e7b8b4d74b8dc0fa49aec8a3a": {
          "model_module": "@jupyter-widgets/controls",
          "model_name": "HTMLModel",
          "model_module_version": "1.5.0",
          "state": {
            "_dom_classes": [],
            "_model_module": "@jupyter-widgets/controls",
            "_model_module_version": "1.5.0",
            "_model_name": "HTMLModel",
            "_view_count": null,
            "_view_module": "@jupyter-widgets/controls",
            "_view_module_version": "1.5.0",
            "_view_name": "HTMLView",
            "description": "",
            "description_tooltip": null,
            "layout": "IPY_MODEL_a56033b6b9c94257bb89b09bbc52507b",
            "placeholder": "​",
            "style": "IPY_MODEL_b3a890c1a9f34b8993ed0e0cf04d117c",
            "value": ""
          }
        },
        "987a796b03bd4ab0975764461f720bb8": {
          "model_module": "@jupyter-widgets/controls",
          "model_name": "FloatProgressModel",
          "model_module_version": "1.5.0",
          "state": {
            "_dom_classes": [],
            "_model_module": "@jupyter-widgets/controls",
            "_model_module_version": "1.5.0",
            "_model_name": "FloatProgressModel",
            "_view_count": null,
            "_view_module": "@jupyter-widgets/controls",
            "_view_module_version": "1.5.0",
            "_view_name": "ProgressView",
            "bar_style": "success",
            "description": "",
            "description_tooltip": null,
            "layout": "IPY_MODEL_8136fa34781849b19325570d810473fe",
            "max": 1,
            "min": 0,
            "orientation": "horizontal",
            "style": "IPY_MODEL_a6835b512342400fa2f5d06e1541310b",
            "value": 0
          }
        },
        "12e308d43ac6467da24b7778548e5979": {
          "model_module": "@jupyter-widgets/controls",
          "model_name": "HTMLModel",
          "model_module_version": "1.5.0",
          "state": {
            "_dom_classes": [],
            "_model_module": "@jupyter-widgets/controls",
            "_model_module_version": "1.5.0",
            "_model_name": "HTMLModel",
            "_view_count": null,
            "_view_module": "@jupyter-widgets/controls",
            "_view_module_version": "1.5.0",
            "_view_name": "HTMLView",
            "description": "",
            "description_tooltip": null,
            "layout": "IPY_MODEL_d6f3aa3776b944559a29c137903f5361",
            "placeholder": "​",
            "style": "IPY_MODEL_cea8a88c032741838ffd38ea117f50ee",
            "value": " 0/0 [00:00&lt;?, ?it/s]"
          }
        },
        "08c582e3ea134df89c1dc03444dca332": {
          "model_module": "@jupyter-widgets/base",
          "model_name": "LayoutModel",
          "model_module_version": "1.2.0",
          "state": {
            "_model_module": "@jupyter-widgets/base",
            "_model_module_version": "1.2.0",
            "_model_name": "LayoutModel",
            "_view_count": null,
            "_view_module": "@jupyter-widgets/base",
            "_view_module_version": "1.2.0",
            "_view_name": "LayoutView",
            "align_content": null,
            "align_items": null,
            "align_self": null,
            "border": null,
            "bottom": null,
            "display": null,
            "flex": null,
            "flex_flow": null,
            "grid_area": null,
            "grid_auto_columns": null,
            "grid_auto_flow": null,
            "grid_auto_rows": null,
            "grid_column": null,
            "grid_gap": null,
            "grid_row": null,
            "grid_template_areas": null,
            "grid_template_columns": null,
            "grid_template_rows": null,
            "height": null,
            "justify_content": null,
            "justify_items": null,
            "left": null,
            "margin": null,
            "max_height": null,
            "max_width": null,
            "min_height": null,
            "min_width": null,
            "object_fit": null,
            "object_position": null,
            "order": null,
            "overflow": null,
            "overflow_x": null,
            "overflow_y": null,
            "padding": null,
            "right": null,
            "top": null,
            "visibility": null,
            "width": null
          }
        },
        "a56033b6b9c94257bb89b09bbc52507b": {
          "model_module": "@jupyter-widgets/base",
          "model_name": "LayoutModel",
          "model_module_version": "1.2.0",
          "state": {
            "_model_module": "@jupyter-widgets/base",
            "_model_module_version": "1.2.0",
            "_model_name": "LayoutModel",
            "_view_count": null,
            "_view_module": "@jupyter-widgets/base",
            "_view_module_version": "1.2.0",
            "_view_name": "LayoutView",
            "align_content": null,
            "align_items": null,
            "align_self": null,
            "border": null,
            "bottom": null,
            "display": null,
            "flex": null,
            "flex_flow": null,
            "grid_area": null,
            "grid_auto_columns": null,
            "grid_auto_flow": null,
            "grid_auto_rows": null,
            "grid_column": null,
            "grid_gap": null,
            "grid_row": null,
            "grid_template_areas": null,
            "grid_template_columns": null,
            "grid_template_rows": null,
            "height": null,
            "justify_content": null,
            "justify_items": null,
            "left": null,
            "margin": null,
            "max_height": null,
            "max_width": null,
            "min_height": null,
            "min_width": null,
            "object_fit": null,
            "object_position": null,
            "order": null,
            "overflow": null,
            "overflow_x": null,
            "overflow_y": null,
            "padding": null,
            "right": null,
            "top": null,
            "visibility": null,
            "width": null
          }
        },
        "b3a890c1a9f34b8993ed0e0cf04d117c": {
          "model_module": "@jupyter-widgets/controls",
          "model_name": "DescriptionStyleModel",
          "model_module_version": "1.5.0",
          "state": {
            "_model_module": "@jupyter-widgets/controls",
            "_model_module_version": "1.5.0",
            "_model_name": "DescriptionStyleModel",
            "_view_count": null,
            "_view_module": "@jupyter-widgets/base",
            "_view_module_version": "1.2.0",
            "_view_name": "StyleView",
            "description_width": ""
          }
        },
        "8136fa34781849b19325570d810473fe": {
          "model_module": "@jupyter-widgets/base",
          "model_name": "LayoutModel",
          "model_module_version": "1.2.0",
          "state": {
            "_model_module": "@jupyter-widgets/base",
            "_model_module_version": "1.2.0",
            "_model_name": "LayoutModel",
            "_view_count": null,
            "_view_module": "@jupyter-widgets/base",
            "_view_module_version": "1.2.0",
            "_view_name": "LayoutView",
            "align_content": null,
            "align_items": null,
            "align_self": null,
            "border": null,
            "bottom": null,
            "display": null,
            "flex": null,
            "flex_flow": null,
            "grid_area": null,
            "grid_auto_columns": null,
            "grid_auto_flow": null,
            "grid_auto_rows": null,
            "grid_column": null,
            "grid_gap": null,
            "grid_row": null,
            "grid_template_areas": null,
            "grid_template_columns": null,
            "grid_template_rows": null,
            "height": null,
            "justify_content": null,
            "justify_items": null,
            "left": null,
            "margin": null,
            "max_height": null,
            "max_width": null,
            "min_height": null,
            "min_width": null,
            "object_fit": null,
            "object_position": null,
            "order": null,
            "overflow": null,
            "overflow_x": null,
            "overflow_y": null,
            "padding": null,
            "right": null,
            "top": null,
            "visibility": null,
            "width": "20px"
          }
        },
        "a6835b512342400fa2f5d06e1541310b": {
          "model_module": "@jupyter-widgets/controls",
          "model_name": "ProgressStyleModel",
          "model_module_version": "1.5.0",
          "state": {
            "_model_module": "@jupyter-widgets/controls",
            "_model_module_version": "1.5.0",
            "_model_name": "ProgressStyleModel",
            "_view_count": null,
            "_view_module": "@jupyter-widgets/base",
            "_view_module_version": "1.2.0",
            "_view_name": "StyleView",
            "bar_color": null,
            "description_width": ""
          }
        },
        "d6f3aa3776b944559a29c137903f5361": {
          "model_module": "@jupyter-widgets/base",
          "model_name": "LayoutModel",
          "model_module_version": "1.2.0",
          "state": {
            "_model_module": "@jupyter-widgets/base",
            "_model_module_version": "1.2.0",
            "_model_name": "LayoutModel",
            "_view_count": null,
            "_view_module": "@jupyter-widgets/base",
            "_view_module_version": "1.2.0",
            "_view_name": "LayoutView",
            "align_content": null,
            "align_items": null,
            "align_self": null,
            "border": null,
            "bottom": null,
            "display": null,
            "flex": null,
            "flex_flow": null,
            "grid_area": null,
            "grid_auto_columns": null,
            "grid_auto_flow": null,
            "grid_auto_rows": null,
            "grid_column": null,
            "grid_gap": null,
            "grid_row": null,
            "grid_template_areas": null,
            "grid_template_columns": null,
            "grid_template_rows": null,
            "height": null,
            "justify_content": null,
            "justify_items": null,
            "left": null,
            "margin": null,
            "max_height": null,
            "max_width": null,
            "min_height": null,
            "min_width": null,
            "object_fit": null,
            "object_position": null,
            "order": null,
            "overflow": null,
            "overflow_x": null,
            "overflow_y": null,
            "padding": null,
            "right": null,
            "top": null,
            "visibility": null,
            "width": null
          }
        },
        "cea8a88c032741838ffd38ea117f50ee": {
          "model_module": "@jupyter-widgets/controls",
          "model_name": "DescriptionStyleModel",
          "model_module_version": "1.5.0",
          "state": {
            "_model_module": "@jupyter-widgets/controls",
            "_model_module_version": "1.5.0",
            "_model_name": "DescriptionStyleModel",
            "_view_count": null,
            "_view_module": "@jupyter-widgets/base",
            "_view_module_version": "1.2.0",
            "_view_name": "StyleView",
            "description_width": ""
          }
        },
        "ac04789fc0e640848b279d9f3be5d964": {
          "model_module": "@jupyter-widgets/controls",
          "model_name": "HBoxModel",
          "model_module_version": "1.5.0",
          "state": {
            "_dom_classes": [],
            "_model_module": "@jupyter-widgets/controls",
            "_model_module_version": "1.5.0",
            "_model_name": "HBoxModel",
            "_view_count": null,
            "_view_module": "@jupyter-widgets/controls",
            "_view_module_version": "1.5.0",
            "_view_name": "HBoxView",
            "box_style": "",
            "children": [
              "IPY_MODEL_d7d6bdebc574453d82df2adc5d4f8a6e",
              "IPY_MODEL_e39d92479a5b4e218068492709391090",
              "IPY_MODEL_62ea2df8285c4428942d79e3d8ba5dc6"
            ],
            "layout": "IPY_MODEL_eefb9ea49eb04780a83dd7337dedb583"
          }
        },
        "d7d6bdebc574453d82df2adc5d4f8a6e": {
          "model_module": "@jupyter-widgets/controls",
          "model_name": "HTMLModel",
          "model_module_version": "1.5.0",
          "state": {
            "_dom_classes": [],
            "_model_module": "@jupyter-widgets/controls",
            "_model_module_version": "1.5.0",
            "_model_name": "HTMLModel",
            "_view_count": null,
            "_view_module": "@jupyter-widgets/controls",
            "_view_module_version": "1.5.0",
            "_view_name": "HTMLView",
            "description": "",
            "description_tooltip": null,
            "layout": "IPY_MODEL_3a864e27180344b89a8f1afb0a9a58dd",
            "placeholder": "​",
            "style": "IPY_MODEL_2cdd1c3e7f9b4690835fce6f82e41975",
            "value": "config.json: 100%"
          }
        },
        "e39d92479a5b4e218068492709391090": {
          "model_module": "@jupyter-widgets/controls",
          "model_name": "FloatProgressModel",
          "model_module_version": "1.5.0",
          "state": {
            "_dom_classes": [],
            "_model_module": "@jupyter-widgets/controls",
            "_model_module_version": "1.5.0",
            "_model_name": "FloatProgressModel",
            "_view_count": null,
            "_view_module": "@jupyter-widgets/controls",
            "_view_module_version": "1.5.0",
            "_view_name": "ProgressView",
            "bar_style": "success",
            "description": "",
            "description_tooltip": null,
            "layout": "IPY_MODEL_4e5d7a69eda94d4e9d9a43e8cedb8e9b",
            "max": 1469,
            "min": 0,
            "orientation": "horizontal",
            "style": "IPY_MODEL_28588943d3b74989a4f358c47f0e7fc5",
            "value": 1469
          }
        },
        "62ea2df8285c4428942d79e3d8ba5dc6": {
          "model_module": "@jupyter-widgets/controls",
          "model_name": "HTMLModel",
          "model_module_version": "1.5.0",
          "state": {
            "_dom_classes": [],
            "_model_module": "@jupyter-widgets/controls",
            "_model_module_version": "1.5.0",
            "_model_name": "HTMLModel",
            "_view_count": null,
            "_view_module": "@jupyter-widgets/controls",
            "_view_module_version": "1.5.0",
            "_view_name": "HTMLView",
            "description": "",
            "description_tooltip": null,
            "layout": "IPY_MODEL_47bcacbdca054a8b8abb288773bd027f",
            "placeholder": "​",
            "style": "IPY_MODEL_0a49fc02dc12426a9be10f74ec4bc465",
            "value": " 1.47k/1.47k [00:00&lt;00:00, 55.0kB/s]"
          }
        },
        "eefb9ea49eb04780a83dd7337dedb583": {
          "model_module": "@jupyter-widgets/base",
          "model_name": "LayoutModel",
          "model_module_version": "1.2.0",
          "state": {
            "_model_module": "@jupyter-widgets/base",
            "_model_module_version": "1.2.0",
            "_model_name": "LayoutModel",
            "_view_count": null,
            "_view_module": "@jupyter-widgets/base",
            "_view_module_version": "1.2.0",
            "_view_name": "LayoutView",
            "align_content": null,
            "align_items": null,
            "align_self": null,
            "border": null,
            "bottom": null,
            "display": null,
            "flex": null,
            "flex_flow": null,
            "grid_area": null,
            "grid_auto_columns": null,
            "grid_auto_flow": null,
            "grid_auto_rows": null,
            "grid_column": null,
            "grid_gap": null,
            "grid_row": null,
            "grid_template_areas": null,
            "grid_template_columns": null,
            "grid_template_rows": null,
            "height": null,
            "justify_content": null,
            "justify_items": null,
            "left": null,
            "margin": null,
            "max_height": null,
            "max_width": null,
            "min_height": null,
            "min_width": null,
            "object_fit": null,
            "object_position": null,
            "order": null,
            "overflow": null,
            "overflow_x": null,
            "overflow_y": null,
            "padding": null,
            "right": null,
            "top": null,
            "visibility": null,
            "width": null
          }
        },
        "3a864e27180344b89a8f1afb0a9a58dd": {
          "model_module": "@jupyter-widgets/base",
          "model_name": "LayoutModel",
          "model_module_version": "1.2.0",
          "state": {
            "_model_module": "@jupyter-widgets/base",
            "_model_module_version": "1.2.0",
            "_model_name": "LayoutModel",
            "_view_count": null,
            "_view_module": "@jupyter-widgets/base",
            "_view_module_version": "1.2.0",
            "_view_name": "LayoutView",
            "align_content": null,
            "align_items": null,
            "align_self": null,
            "border": null,
            "bottom": null,
            "display": null,
            "flex": null,
            "flex_flow": null,
            "grid_area": null,
            "grid_auto_columns": null,
            "grid_auto_flow": null,
            "grid_auto_rows": null,
            "grid_column": null,
            "grid_gap": null,
            "grid_row": null,
            "grid_template_areas": null,
            "grid_template_columns": null,
            "grid_template_rows": null,
            "height": null,
            "justify_content": null,
            "justify_items": null,
            "left": null,
            "margin": null,
            "max_height": null,
            "max_width": null,
            "min_height": null,
            "min_width": null,
            "object_fit": null,
            "object_position": null,
            "order": null,
            "overflow": null,
            "overflow_x": null,
            "overflow_y": null,
            "padding": null,
            "right": null,
            "top": null,
            "visibility": null,
            "width": null
          }
        },
        "2cdd1c3e7f9b4690835fce6f82e41975": {
          "model_module": "@jupyter-widgets/controls",
          "model_name": "DescriptionStyleModel",
          "model_module_version": "1.5.0",
          "state": {
            "_model_module": "@jupyter-widgets/controls",
            "_model_module_version": "1.5.0",
            "_model_name": "DescriptionStyleModel",
            "_view_count": null,
            "_view_module": "@jupyter-widgets/base",
            "_view_module_version": "1.2.0",
            "_view_name": "StyleView",
            "description_width": ""
          }
        },
        "4e5d7a69eda94d4e9d9a43e8cedb8e9b": {
          "model_module": "@jupyter-widgets/base",
          "model_name": "LayoutModel",
          "model_module_version": "1.2.0",
          "state": {
            "_model_module": "@jupyter-widgets/base",
            "_model_module_version": "1.2.0",
            "_model_name": "LayoutModel",
            "_view_count": null,
            "_view_module": "@jupyter-widgets/base",
            "_view_module_version": "1.2.0",
            "_view_name": "LayoutView",
            "align_content": null,
            "align_items": null,
            "align_self": null,
            "border": null,
            "bottom": null,
            "display": null,
            "flex": null,
            "flex_flow": null,
            "grid_area": null,
            "grid_auto_columns": null,
            "grid_auto_flow": null,
            "grid_auto_rows": null,
            "grid_column": null,
            "grid_gap": null,
            "grid_row": null,
            "grid_template_areas": null,
            "grid_template_columns": null,
            "grid_template_rows": null,
            "height": null,
            "justify_content": null,
            "justify_items": null,
            "left": null,
            "margin": null,
            "max_height": null,
            "max_width": null,
            "min_height": null,
            "min_width": null,
            "object_fit": null,
            "object_position": null,
            "order": null,
            "overflow": null,
            "overflow_x": null,
            "overflow_y": null,
            "padding": null,
            "right": null,
            "top": null,
            "visibility": null,
            "width": null
          }
        },
        "28588943d3b74989a4f358c47f0e7fc5": {
          "model_module": "@jupyter-widgets/controls",
          "model_name": "ProgressStyleModel",
          "model_module_version": "1.5.0",
          "state": {
            "_model_module": "@jupyter-widgets/controls",
            "_model_module_version": "1.5.0",
            "_model_name": "ProgressStyleModel",
            "_view_count": null,
            "_view_module": "@jupyter-widgets/base",
            "_view_module_version": "1.2.0",
            "_view_name": "StyleView",
            "bar_color": null,
            "description_width": ""
          }
        },
        "47bcacbdca054a8b8abb288773bd027f": {
          "model_module": "@jupyter-widgets/base",
          "model_name": "LayoutModel",
          "model_module_version": "1.2.0",
          "state": {
            "_model_module": "@jupyter-widgets/base",
            "_model_module_version": "1.2.0",
            "_model_name": "LayoutModel",
            "_view_count": null,
            "_view_module": "@jupyter-widgets/base",
            "_view_module_version": "1.2.0",
            "_view_name": "LayoutView",
            "align_content": null,
            "align_items": null,
            "align_self": null,
            "border": null,
            "bottom": null,
            "display": null,
            "flex": null,
            "flex_flow": null,
            "grid_area": null,
            "grid_auto_columns": null,
            "grid_auto_flow": null,
            "grid_auto_rows": null,
            "grid_column": null,
            "grid_gap": null,
            "grid_row": null,
            "grid_template_areas": null,
            "grid_template_columns": null,
            "grid_template_rows": null,
            "height": null,
            "justify_content": null,
            "justify_items": null,
            "left": null,
            "margin": null,
            "max_height": null,
            "max_width": null,
            "min_height": null,
            "min_width": null,
            "object_fit": null,
            "object_position": null,
            "order": null,
            "overflow": null,
            "overflow_x": null,
            "overflow_y": null,
            "padding": null,
            "right": null,
            "top": null,
            "visibility": null,
            "width": null
          }
        },
        "0a49fc02dc12426a9be10f74ec4bc465": {
          "model_module": "@jupyter-widgets/controls",
          "model_name": "DescriptionStyleModel",
          "model_module_version": "1.5.0",
          "state": {
            "_model_module": "@jupyter-widgets/controls",
            "_model_module_version": "1.5.0",
            "_model_name": "DescriptionStyleModel",
            "_view_count": null,
            "_view_module": "@jupyter-widgets/base",
            "_view_module_version": "1.2.0",
            "_view_name": "StyleView",
            "description_width": ""
          }
        },
        "27fe4980757b4c4fbaf1aaa6f63d31e9": {
          "model_module": "@jupyter-widgets/controls",
          "model_name": "HBoxModel",
          "model_module_version": "1.5.0",
          "state": {
            "_dom_classes": [],
            "_model_module": "@jupyter-widgets/controls",
            "_model_module_version": "1.5.0",
            "_model_name": "HBoxModel",
            "_view_count": null,
            "_view_module": "@jupyter-widgets/controls",
            "_view_module_version": "1.5.0",
            "_view_name": "HBoxView",
            "box_style": "",
            "children": [
              "IPY_MODEL_6bdc89e33f814fcd9e9c767e591416f8",
              "IPY_MODEL_7eee162962224009a7de01a493dab334",
              "IPY_MODEL_6d4fc955990244d697ffc95b30d2a98e"
            ],
            "layout": "IPY_MODEL_6ea679299e9c4f1a8e897fc201b15d0a"
          }
        },
        "6bdc89e33f814fcd9e9c767e591416f8": {
          "model_module": "@jupyter-widgets/controls",
          "model_name": "HTMLModel",
          "model_module_version": "1.5.0",
          "state": {
            "_dom_classes": [],
            "_model_module": "@jupyter-widgets/controls",
            "_model_module_version": "1.5.0",
            "_model_name": "HTMLModel",
            "_view_count": null,
            "_view_module": "@jupyter-widgets/controls",
            "_view_module_version": "1.5.0",
            "_view_name": "HTMLView",
            "description": "",
            "description_tooltip": null,
            "layout": "IPY_MODEL_8780a335e32042c8a74a859f4fbb31dc",
            "placeholder": "​",
            "style": "IPY_MODEL_665b0441cb6647528815d63a860cf5f2",
            "value": "model.safetensors: 100%"
          }
        },
        "7eee162962224009a7de01a493dab334": {
          "model_module": "@jupyter-widgets/controls",
          "model_name": "FloatProgressModel",
          "model_module_version": "1.5.0",
          "state": {
            "_dom_classes": [],
            "_model_module": "@jupyter-widgets/controls",
            "_model_module_version": "1.5.0",
            "_model_name": "FloatProgressModel",
            "_view_count": null,
            "_view_module": "@jupyter-widgets/controls",
            "_view_module_version": "1.5.0",
            "_view_name": "ProgressView",
            "bar_style": "success",
            "description": "",
            "description_tooltip": null,
            "layout": "IPY_MODEL_47095a400c7e48c3984b6a21228268ed",
            "max": 115434268,
            "min": 0,
            "orientation": "horizontal",
            "style": "IPY_MODEL_0005bb63ab0446f18a69faafaa9d546a",
            "value": 115434268
          }
        },
        "6d4fc955990244d697ffc95b30d2a98e": {
          "model_module": "@jupyter-widgets/controls",
          "model_name": "HTMLModel",
          "model_module_version": "1.5.0",
          "state": {
            "_dom_classes": [],
            "_model_module": "@jupyter-widgets/controls",
            "_model_module_version": "1.5.0",
            "_model_name": "HTMLModel",
            "_view_count": null,
            "_view_module": "@jupyter-widgets/controls",
            "_view_module_version": "1.5.0",
            "_view_name": "HTMLView",
            "description": "",
            "description_tooltip": null,
            "layout": "IPY_MODEL_e24a8a99c9324a6293b45ce1fc57b776",
            "placeholder": "​",
            "style": "IPY_MODEL_3d61635318274c77992fd9e2f57d2c47",
            "value": " 115M/115M [00:01&lt;00:00, 95.5MB/s]"
          }
        },
        "6ea679299e9c4f1a8e897fc201b15d0a": {
          "model_module": "@jupyter-widgets/base",
          "model_name": "LayoutModel",
          "model_module_version": "1.2.0",
          "state": {
            "_model_module": "@jupyter-widgets/base",
            "_model_module_version": "1.2.0",
            "_model_name": "LayoutModel",
            "_view_count": null,
            "_view_module": "@jupyter-widgets/base",
            "_view_module_version": "1.2.0",
            "_view_name": "LayoutView",
            "align_content": null,
            "align_items": null,
            "align_self": null,
            "border": null,
            "bottom": null,
            "display": null,
            "flex": null,
            "flex_flow": null,
            "grid_area": null,
            "grid_auto_columns": null,
            "grid_auto_flow": null,
            "grid_auto_rows": null,
            "grid_column": null,
            "grid_gap": null,
            "grid_row": null,
            "grid_template_areas": null,
            "grid_template_columns": null,
            "grid_template_rows": null,
            "height": null,
            "justify_content": null,
            "justify_items": null,
            "left": null,
            "margin": null,
            "max_height": null,
            "max_width": null,
            "min_height": null,
            "min_width": null,
            "object_fit": null,
            "object_position": null,
            "order": null,
            "overflow": null,
            "overflow_x": null,
            "overflow_y": null,
            "padding": null,
            "right": null,
            "top": null,
            "visibility": null,
            "width": null
          }
        },
        "8780a335e32042c8a74a859f4fbb31dc": {
          "model_module": "@jupyter-widgets/base",
          "model_name": "LayoutModel",
          "model_module_version": "1.2.0",
          "state": {
            "_model_module": "@jupyter-widgets/base",
            "_model_module_version": "1.2.0",
            "_model_name": "LayoutModel",
            "_view_count": null,
            "_view_module": "@jupyter-widgets/base",
            "_view_module_version": "1.2.0",
            "_view_name": "LayoutView",
            "align_content": null,
            "align_items": null,
            "align_self": null,
            "border": null,
            "bottom": null,
            "display": null,
            "flex": null,
            "flex_flow": null,
            "grid_area": null,
            "grid_auto_columns": null,
            "grid_auto_flow": null,
            "grid_auto_rows": null,
            "grid_column": null,
            "grid_gap": null,
            "grid_row": null,
            "grid_template_areas": null,
            "grid_template_columns": null,
            "grid_template_rows": null,
            "height": null,
            "justify_content": null,
            "justify_items": null,
            "left": null,
            "margin": null,
            "max_height": null,
            "max_width": null,
            "min_height": null,
            "min_width": null,
            "object_fit": null,
            "object_position": null,
            "order": null,
            "overflow": null,
            "overflow_x": null,
            "overflow_y": null,
            "padding": null,
            "right": null,
            "top": null,
            "visibility": null,
            "width": null
          }
        },
        "665b0441cb6647528815d63a860cf5f2": {
          "model_module": "@jupyter-widgets/controls",
          "model_name": "DescriptionStyleModel",
          "model_module_version": "1.5.0",
          "state": {
            "_model_module": "@jupyter-widgets/controls",
            "_model_module_version": "1.5.0",
            "_model_name": "DescriptionStyleModel",
            "_view_count": null,
            "_view_module": "@jupyter-widgets/base",
            "_view_module_version": "1.2.0",
            "_view_name": "StyleView",
            "description_width": ""
          }
        },
        "47095a400c7e48c3984b6a21228268ed": {
          "model_module": "@jupyter-widgets/base",
          "model_name": "LayoutModel",
          "model_module_version": "1.2.0",
          "state": {
            "_model_module": "@jupyter-widgets/base",
            "_model_module_version": "1.2.0",
            "_model_name": "LayoutModel",
            "_view_count": null,
            "_view_module": "@jupyter-widgets/base",
            "_view_module_version": "1.2.0",
            "_view_name": "LayoutView",
            "align_content": null,
            "align_items": null,
            "align_self": null,
            "border": null,
            "bottom": null,
            "display": null,
            "flex": null,
            "flex_flow": null,
            "grid_area": null,
            "grid_auto_columns": null,
            "grid_auto_flow": null,
            "grid_auto_rows": null,
            "grid_column": null,
            "grid_gap": null,
            "grid_row": null,
            "grid_template_areas": null,
            "grid_template_columns": null,
            "grid_template_rows": null,
            "height": null,
            "justify_content": null,
            "justify_items": null,
            "left": null,
            "margin": null,
            "max_height": null,
            "max_width": null,
            "min_height": null,
            "min_width": null,
            "object_fit": null,
            "object_position": null,
            "order": null,
            "overflow": null,
            "overflow_x": null,
            "overflow_y": null,
            "padding": null,
            "right": null,
            "top": null,
            "visibility": null,
            "width": null
          }
        },
        "0005bb63ab0446f18a69faafaa9d546a": {
          "model_module": "@jupyter-widgets/controls",
          "model_name": "ProgressStyleModel",
          "model_module_version": "1.5.0",
          "state": {
            "_model_module": "@jupyter-widgets/controls",
            "_model_module_version": "1.5.0",
            "_model_name": "ProgressStyleModel",
            "_view_count": null,
            "_view_module": "@jupyter-widgets/base",
            "_view_module_version": "1.2.0",
            "_view_name": "StyleView",
            "bar_color": null,
            "description_width": ""
          }
        },
        "e24a8a99c9324a6293b45ce1fc57b776": {
          "model_module": "@jupyter-widgets/base",
          "model_name": "LayoutModel",
          "model_module_version": "1.2.0",
          "state": {
            "_model_module": "@jupyter-widgets/base",
            "_model_module_version": "1.2.0",
            "_model_name": "LayoutModel",
            "_view_count": null,
            "_view_module": "@jupyter-widgets/base",
            "_view_module_version": "1.2.0",
            "_view_name": "LayoutView",
            "align_content": null,
            "align_items": null,
            "align_self": null,
            "border": null,
            "bottom": null,
            "display": null,
            "flex": null,
            "flex_flow": null,
            "grid_area": null,
            "grid_auto_columns": null,
            "grid_auto_flow": null,
            "grid_auto_rows": null,
            "grid_column": null,
            "grid_gap": null,
            "grid_row": null,
            "grid_template_areas": null,
            "grid_template_columns": null,
            "grid_template_rows": null,
            "height": null,
            "justify_content": null,
            "justify_items": null,
            "left": null,
            "margin": null,
            "max_height": null,
            "max_width": null,
            "min_height": null,
            "min_width": null,
            "object_fit": null,
            "object_position": null,
            "order": null,
            "overflow": null,
            "overflow_x": null,
            "overflow_y": null,
            "padding": null,
            "right": null,
            "top": null,
            "visibility": null,
            "width": null
          }
        },
        "3d61635318274c77992fd9e2f57d2c47": {
          "model_module": "@jupyter-widgets/controls",
          "model_name": "DescriptionStyleModel",
          "model_module_version": "1.5.0",
          "state": {
            "_model_module": "@jupyter-widgets/controls",
            "_model_module_version": "1.5.0",
            "_model_name": "DescriptionStyleModel",
            "_view_count": null,
            "_view_module": "@jupyter-widgets/base",
            "_view_module_version": "1.2.0",
            "_view_name": "StyleView",
            "description_width": ""
          }
        },
        "0946ca08585140dabbb0b0a867ff5587": {
          "model_module": "@jupyter-widgets/controls",
          "model_name": "HBoxModel",
          "model_module_version": "1.5.0",
          "state": {
            "_dom_classes": [],
            "_model_module": "@jupyter-widgets/controls",
            "_model_module_version": "1.5.0",
            "_model_name": "HBoxModel",
            "_view_count": null,
            "_view_module": "@jupyter-widgets/controls",
            "_view_module_version": "1.5.0",
            "_view_name": "HBoxView",
            "box_style": "",
            "children": [
              "IPY_MODEL_3ac81882eb4f4f088d06d9afc61e5d7a",
              "IPY_MODEL_697ed0af663d457bb9ea686400e7a944",
              "IPY_MODEL_6b47862bcd49446f94e8de7566ab046e"
            ],
            "layout": "IPY_MODEL_9dcd956c1bd24d38a4b28e1ce668bf24"
          }
        },
        "3ac81882eb4f4f088d06d9afc61e5d7a": {
          "model_module": "@jupyter-widgets/controls",
          "model_name": "HTMLModel",
          "model_module_version": "1.5.0",
          "state": {
            "_dom_classes": [],
            "_model_module": "@jupyter-widgets/controls",
            "_model_module_version": "1.5.0",
            "_model_name": "HTMLModel",
            "_view_count": null,
            "_view_module": "@jupyter-widgets/controls",
            "_view_module_version": "1.5.0",
            "_view_name": "HTMLView",
            "description": "",
            "description_tooltip": null,
            "layout": "IPY_MODEL_8bb7e322bc7e428fba22a65d089815a0",
            "placeholder": "​",
            "style": "IPY_MODEL_bdcb4048bb2d478f8086f7d53da12559",
            "value": "model.safetensors: 100%"
          }
        },
        "697ed0af663d457bb9ea686400e7a944": {
          "model_module": "@jupyter-widgets/controls",
          "model_name": "FloatProgressModel",
          "model_module_version": "1.5.0",
          "state": {
            "_dom_classes": [],
            "_model_module": "@jupyter-widgets/controls",
            "_model_module_version": "1.5.0",
            "_model_name": "FloatProgressModel",
            "_view_count": null,
            "_view_module": "@jupyter-widgets/controls",
            "_view_module_version": "1.5.0",
            "_view_name": "ProgressView",
            "bar_style": "success",
            "description": "",
            "description_tooltip": null,
            "layout": "IPY_MODEL_a0c00d3b3ab34f1cb35cbfbe0e9e758d",
            "max": 46807446,
            "min": 0,
            "orientation": "horizontal",
            "style": "IPY_MODEL_fde49f9af7724dfb97219e6045de9ae2",
            "value": 46807446
          }
        },
        "6b47862bcd49446f94e8de7566ab046e": {
          "model_module": "@jupyter-widgets/controls",
          "model_name": "HTMLModel",
          "model_module_version": "1.5.0",
          "state": {
            "_dom_classes": [],
            "_model_module": "@jupyter-widgets/controls",
            "_model_module_version": "1.5.0",
            "_model_name": "HTMLModel",
            "_view_count": null,
            "_view_module": "@jupyter-widgets/controls",
            "_view_module_version": "1.5.0",
            "_view_name": "HTMLView",
            "description": "",
            "description_tooltip": null,
            "layout": "IPY_MODEL_8f6d9782b1d540ee9017220417e62464",
            "placeholder": "​",
            "style": "IPY_MODEL_68e290ba5c9b4bafb7a5d0755f78441b",
            "value": " 46.8M/46.8M [00:00&lt;00:00, 98.0MB/s]"
          }
        },
        "9dcd956c1bd24d38a4b28e1ce668bf24": {
          "model_module": "@jupyter-widgets/base",
          "model_name": "LayoutModel",
          "model_module_version": "1.2.0",
          "state": {
            "_model_module": "@jupyter-widgets/base",
            "_model_module_version": "1.2.0",
            "_model_name": "LayoutModel",
            "_view_count": null,
            "_view_module": "@jupyter-widgets/base",
            "_view_module_version": "1.2.0",
            "_view_name": "LayoutView",
            "align_content": null,
            "align_items": null,
            "align_self": null,
            "border": null,
            "bottom": null,
            "display": null,
            "flex": null,
            "flex_flow": null,
            "grid_area": null,
            "grid_auto_columns": null,
            "grid_auto_flow": null,
            "grid_auto_rows": null,
            "grid_column": null,
            "grid_gap": null,
            "grid_row": null,
            "grid_template_areas": null,
            "grid_template_columns": null,
            "grid_template_rows": null,
            "height": null,
            "justify_content": null,
            "justify_items": null,
            "left": null,
            "margin": null,
            "max_height": null,
            "max_width": null,
            "min_height": null,
            "min_width": null,
            "object_fit": null,
            "object_position": null,
            "order": null,
            "overflow": null,
            "overflow_x": null,
            "overflow_y": null,
            "padding": null,
            "right": null,
            "top": null,
            "visibility": null,
            "width": null
          }
        },
        "8bb7e322bc7e428fba22a65d089815a0": {
          "model_module": "@jupyter-widgets/base",
          "model_name": "LayoutModel",
          "model_module_version": "1.2.0",
          "state": {
            "_model_module": "@jupyter-widgets/base",
            "_model_module_version": "1.2.0",
            "_model_name": "LayoutModel",
            "_view_count": null,
            "_view_module": "@jupyter-widgets/base",
            "_view_module_version": "1.2.0",
            "_view_name": "LayoutView",
            "align_content": null,
            "align_items": null,
            "align_self": null,
            "border": null,
            "bottom": null,
            "display": null,
            "flex": null,
            "flex_flow": null,
            "grid_area": null,
            "grid_auto_columns": null,
            "grid_auto_flow": null,
            "grid_auto_rows": null,
            "grid_column": null,
            "grid_gap": null,
            "grid_row": null,
            "grid_template_areas": null,
            "grid_template_columns": null,
            "grid_template_rows": null,
            "height": null,
            "justify_content": null,
            "justify_items": null,
            "left": null,
            "margin": null,
            "max_height": null,
            "max_width": null,
            "min_height": null,
            "min_width": null,
            "object_fit": null,
            "object_position": null,
            "order": null,
            "overflow": null,
            "overflow_x": null,
            "overflow_y": null,
            "padding": null,
            "right": null,
            "top": null,
            "visibility": null,
            "width": null
          }
        },
        "bdcb4048bb2d478f8086f7d53da12559": {
          "model_module": "@jupyter-widgets/controls",
          "model_name": "DescriptionStyleModel",
          "model_module_version": "1.5.0",
          "state": {
            "_model_module": "@jupyter-widgets/controls",
            "_model_module_version": "1.5.0",
            "_model_name": "DescriptionStyleModel",
            "_view_count": null,
            "_view_module": "@jupyter-widgets/base",
            "_view_module_version": "1.2.0",
            "_view_name": "StyleView",
            "description_width": ""
          }
        },
        "a0c00d3b3ab34f1cb35cbfbe0e9e758d": {
          "model_module": "@jupyter-widgets/base",
          "model_name": "LayoutModel",
          "model_module_version": "1.2.0",
          "state": {
            "_model_module": "@jupyter-widgets/base",
            "_model_module_version": "1.2.0",
            "_model_name": "LayoutModel",
            "_view_count": null,
            "_view_module": "@jupyter-widgets/base",
            "_view_module_version": "1.2.0",
            "_view_name": "LayoutView",
            "align_content": null,
            "align_items": null,
            "align_self": null,
            "border": null,
            "bottom": null,
            "display": null,
            "flex": null,
            "flex_flow": null,
            "grid_area": null,
            "grid_auto_columns": null,
            "grid_auto_flow": null,
            "grid_auto_rows": null,
            "grid_column": null,
            "grid_gap": null,
            "grid_row": null,
            "grid_template_areas": null,
            "grid_template_columns": null,
            "grid_template_rows": null,
            "height": null,
            "justify_content": null,
            "justify_items": null,
            "left": null,
            "margin": null,
            "max_height": null,
            "max_width": null,
            "min_height": null,
            "min_width": null,
            "object_fit": null,
            "object_position": null,
            "order": null,
            "overflow": null,
            "overflow_x": null,
            "overflow_y": null,
            "padding": null,
            "right": null,
            "top": null,
            "visibility": null,
            "width": null
          }
        },
        "fde49f9af7724dfb97219e6045de9ae2": {
          "model_module": "@jupyter-widgets/controls",
          "model_name": "ProgressStyleModel",
          "model_module_version": "1.5.0",
          "state": {
            "_model_module": "@jupyter-widgets/controls",
            "_model_module_version": "1.5.0",
            "_model_name": "ProgressStyleModel",
            "_view_count": null,
            "_view_module": "@jupyter-widgets/base",
            "_view_module_version": "1.2.0",
            "_view_name": "StyleView",
            "bar_color": null,
            "description_width": ""
          }
        },
        "8f6d9782b1d540ee9017220417e62464": {
          "model_module": "@jupyter-widgets/base",
          "model_name": "LayoutModel",
          "model_module_version": "1.2.0",
          "state": {
            "_model_module": "@jupyter-widgets/base",
            "_model_module_version": "1.2.0",
            "_model_name": "LayoutModel",
            "_view_count": null,
            "_view_module": "@jupyter-widgets/base",
            "_view_module_version": "1.2.0",
            "_view_name": "LayoutView",
            "align_content": null,
            "align_items": null,
            "align_self": null,
            "border": null,
            "bottom": null,
            "display": null,
            "flex": null,
            "flex_flow": null,
            "grid_area": null,
            "grid_auto_columns": null,
            "grid_auto_flow": null,
            "grid_auto_rows": null,
            "grid_column": null,
            "grid_gap": null,
            "grid_row": null,
            "grid_template_areas": null,
            "grid_template_columns": null,
            "grid_template_rows": null,
            "height": null,
            "justify_content": null,
            "justify_items": null,
            "left": null,
            "margin": null,
            "max_height": null,
            "max_width": null,
            "min_height": null,
            "min_width": null,
            "object_fit": null,
            "object_position": null,
            "order": null,
            "overflow": null,
            "overflow_x": null,
            "overflow_y": null,
            "padding": null,
            "right": null,
            "top": null,
            "visibility": null,
            "width": null
          }
        },
        "68e290ba5c9b4bafb7a5d0755f78441b": {
          "model_module": "@jupyter-widgets/controls",
          "model_name": "DescriptionStyleModel",
          "model_module_version": "1.5.0",
          "state": {
            "_model_module": "@jupyter-widgets/controls",
            "_model_module_version": "1.5.0",
            "_model_name": "DescriptionStyleModel",
            "_view_count": null,
            "_view_module": "@jupyter-widgets/base",
            "_view_module_version": "1.2.0",
            "_view_name": "StyleView",
            "description_width": ""
          }
        }
      }
    }
  },
  "nbformat": 4,
  "nbformat_minor": 0
}
